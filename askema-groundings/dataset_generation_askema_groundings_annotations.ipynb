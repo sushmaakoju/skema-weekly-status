{
  "nbformat": 4,
  "nbformat_minor": 0,
  "metadata": {
    "colab": {
      "provenance": [],
      "machine_shape": "hm"
    },
    "kernelspec": {
      "name": "python3",
      "display_name": "Python 3"
    },
    "language_info": {
      "name": "python"
    }
  },
  "cells": [
    {
      "cell_type": "code",
      "execution_count": 1,
      "metadata": {
        "id": "EA7Z3nLLu6iw"
      },
      "outputs": [],
      "source": [
        "import pandas as pd\n",
        "import numpy as np\n",
        "import os"
      ]
    },
    {
      "cell_type": "code",
      "source": [
        "from google.colab import drive\n",
        "drive.mount('/content/drive')"
      ],
      "metadata": {
        "colab": {
          "base_uri": "https://localhost:8080/"
        },
        "id": "_XmixSmvu7hh",
        "outputId": "b0966738-d5d2-43a6-eca5-bb58c889caed"
      },
      "execution_count": 2,
      "outputs": [
        {
          "output_type": "stream",
          "name": "stdout",
          "text": [
            "Mounted at /content/drive\n"
          ]
        }
      ]
    },
    {
      "cell_type": "code",
      "source": [
        "%cd /content/drive/MyDrive/Colab\\ Notebooks/skema/ASKEM\\ Grounding\\ Annotations/\n",
        "!ls"
      ],
      "metadata": {
        "colab": {
          "base_uri": "https://localhost:8080/"
        },
        "id": "2aTeoNTlvI12",
        "outputId": "a11f1689-69f3-45f8-b8ba-332d1ffd4c5b"
      },
      "execution_count": 3,
      "outputs": [
        {
          "output_type": "stream",
          "name": "stdout",
          "text": [
            "/content/drive/MyDrive/Colab Notebooks/skema/ASKEM Grounding Annotations\n",
            "dataset\n",
            "grounding_extractions_documents_5Febbuckymodel_webdocs--COSMOS-data.xlsx\n",
            "grounding_extractions_documents_5FebCHIME_SIR--COSMOS-data.xlsx\n",
            "grounding_extractions_documents_5FebCHIME_SVIIvR--COSMOS-data.xlsx\n",
            "grounding_extractions_documents_5Febs00285-015-0906-z--COSMOS-data.xlsx\n",
            "role_based_counts_buckymodel_webdocs.csv\n",
            "role_based_counts_buckymodel_webdocs.gsheet\n",
            "role_based_counts_CHIME_SIR.csv\n",
            "role_based_counts_CHIME_SIR.gsheet\n",
            "role_based_counts_CHIME_SVIIvR.csv\n",
            "role_based_counts_CHIME_SVIIvR.gsheet\n",
            "role_based_counts_s00285-015-0906-z.csv\n"
          ]
        }
      ]
    },
    {
      "cell_type": "code",
      "source": [
        "path = \"/content/drive/MyDrive/Colab Notebooks/skema/ASKEM Grounding Annotations\"\n",
        "files = [os.path.join(path, file) for file in os.listdir(path) if \"COSMOS-data.xlsx\" in file]\n",
        "files"
      ],
      "metadata": {
        "colab": {
          "base_uri": "https://localhost:8080/"
        },
        "id": "SoFulRKiyaub",
        "outputId": "f8712751-b2cb-479f-faf7-32edf5f76bdf"
      },
      "execution_count": 4,
      "outputs": [
        {
          "output_type": "execute_result",
          "data": {
            "text/plain": [
              "['/content/drive/MyDrive/Colab Notebooks/skema/ASKEM Grounding Annotations/grounding_extractions_documents_5Febbuckymodel_webdocs--COSMOS-data.xlsx',\n",
              " '/content/drive/MyDrive/Colab Notebooks/skema/ASKEM Grounding Annotations/grounding_extractions_documents_5Febs00285-015-0906-z--COSMOS-data.xlsx',\n",
              " '/content/drive/MyDrive/Colab Notebooks/skema/ASKEM Grounding Annotations/grounding_extractions_documents_5FebCHIME_SIR--COSMOS-data.xlsx',\n",
              " '/content/drive/MyDrive/Colab Notebooks/skema/ASKEM Grounding Annotations/grounding_extractions_documents_5FebCHIME_SVIIvR--COSMOS-data.xlsx']"
            ]
          },
          "metadata": {},
          "execution_count": 4
        }
      ]
    },
    {
      "cell_type": "code",
      "source": [
        "data = {file:[] for file in files}\n",
        "# print(data.keys())\n",
        "for file in files:\n",
        "  print(file, \"\\n\",len(data[file]))\n",
        "  df = pd.read_excel(file)\n",
        "  df['Annotation'] = df['Annotation'].fillna(\"None\")\n",
        "  df = df.fillna(method='ffill', axis=0)\n",
        "  df.insert(0, 'id', range(1, 1 + len(df)))\n",
        "  i = 0\n",
        "  for index, this_row in df.iterrows():\n",
        "    res = []\n",
        "    this_row_list = this_row.values.tolist()\n",
        "    rows = df[df[\"Text\"] == this_row['Text']][['Text','Context',\"Candidate ID\",\t\"Candidate Text\",\"Annotation\"]]\n",
        "\n",
        "    this_list = rows[['Text','Context',\"Candidate Text\",\"Annotation\"]]\n",
        "    cat_values = {\"Annotation\":     {\"X\": 1, \"G\": 2, \"None\":3}}\n",
        "    this_list = this_list.replace(cat_values).sort_values(by=[\"Annotation\"], ascending=True)\n",
        "    l = this_list[['Text','Context',\"Candidate Text\",\"Annotation\"]].values.tolist()\n",
        "    res = [{\"Text\":a[0], \"Context\": a[1], \"1\":a[2], \"2\":b[2]} for idx, a in enumerate(l) for b in l[idx + 1:] if a[3] < b[3]]\n",
        "    # print(this_list[[\"Candidate Text\",\"Annotation\"]].values.tolist(), len(this_list.index) )\n",
        "    data[file].extend(res)\n",
        "  print(len(data[file]))"
      ],
      "metadata": {
        "colab": {
          "base_uri": "https://localhost:8080/"
        },
        "id": "-rBxjW-P6b_v",
        "outputId": "e3b2ce5c-c7c0-4676-ef84-0d94794fc023"
      },
      "execution_count": 36,
      "outputs": [
        {
          "output_type": "stream",
          "name": "stdout",
          "text": [
            "/content/drive/MyDrive/Colab Notebooks/skema/ASKEM Grounding Annotations/grounding_extractions_documents_5Febbuckymodel_webdocs--COSMOS-data.xlsx \n",
            " 0\n",
            "140281\n",
            "/content/drive/MyDrive/Colab Notebooks/skema/ASKEM Grounding Annotations/grounding_extractions_documents_5Febs00285-015-0906-z--COSMOS-data.xlsx \n",
            " 0\n",
            "0\n",
            "/content/drive/MyDrive/Colab Notebooks/skema/ASKEM Grounding Annotations/grounding_extractions_documents_5FebCHIME_SIR--COSMOS-data.xlsx \n",
            " 0\n",
            "151809\n",
            "/content/drive/MyDrive/Colab Notebooks/skema/ASKEM Grounding Annotations/grounding_extractions_documents_5FebCHIME_SVIIvR--COSMOS-data.xlsx \n",
            " 0\n",
            "210\n"
          ]
        }
      ]
    },
    {
      "cell_type": "code",
      "source": [
        "res"
      ],
      "metadata": {
        "colab": {
          "base_uri": "https://localhost:8080/"
        },
        "id": "1p2C8CzeSYQg",
        "outputId": "9d1250f2-2cd2-4619-9eda-660253c9548b"
      },
      "execution_count": 35,
      "outputs": [
        {
          "output_type": "execute_result",
          "data": {
            "text/plain": [
              "[{'Text': 'with 4 rates',\n",
              "  'Candidate Text': 'with 4 rates : beta , vr , vs , gamma .',\n",
              "  '1': 'Rate',\n",
              "  '2': 'CEL-170/4'},\n",
              " {'Text': 'with 4 rates',\n",
              "  'Candidate Text': 'with 4 rates : beta , vr , vs , gamma .',\n",
              "  '1': 'Rate',\n",
              "  '2': 'rate of cases with at least one comorbidity'},\n",
              " {'Text': 'with 4 rates',\n",
              "  'Candidate Text': 'with 4 rates : beta , vr , vs , gamma .',\n",
              "  '1': 'Rate',\n",
              "  '2': 'device-specific rates and procedure-specific rates'},\n",
              " {'Text': 'with 4 rates',\n",
              "  'Candidate Text': 'with 4 rates : beta , vr , vs , gamma .',\n",
              "  '1': 'Rate',\n",
              "  '2': 'human age 4 to 6 years at vaccination'},\n",
              " {'Text': 'with 4 rates',\n",
              "  'Candidate Text': 'with 4 rates : beta , vr , vs , gamma .',\n",
              "  '1': 'Rate',\n",
              "  '2': 'mean with confidence interval'},\n",
              " {'Text': 'with 4 rates',\n",
              "  'Candidate Text': 'with 4 rates : beta , vr , vs , gamma .',\n",
              "  '1': 'Rate',\n",
              "  '2': 'human age 12 to 23 months at vaccination'},\n",
              " {'Text': 'with 4 rates',\n",
              "  'Candidate Text': 'with 4 rates : beta , vr , vs , gamma .',\n",
              "  '1': 'Rate',\n",
              "  '2': 'persons aged 25--64 years with medical conditions at higher risk for influenza-related complications'},\n",
              " {'Text': 'with 4 rates',\n",
              "  'Candidate Text': 'with 4 rates : beta , vr , vs , gamma .',\n",
              "  '1': 'Rate',\n",
              "  '2': 'Flow Rate'},\n",
              " {'Text': 'with 4 rates',\n",
              "  'Candidate Text': 'with 4 rates : beta , vr , vs , gamma .',\n",
              "  '1': 'Rate',\n",
              "  '2': 'life stages with duration and mortality'},\n",
              " {'Text': 'with 4 rates',\n",
              "  'Candidate Text': 'with 4 rates : beta , vr , vs , gamma .',\n",
              "  '1': 'Rate',\n",
              "  '2': 'percentage of cases which are detected'},\n",
              " {'Text': 'with 4 rates',\n",
              "  'Candidate Text': 'with 4 rates : beta , vr , vs , gamma .',\n",
              "  '1': 'Rate',\n",
              "  '2': 'Molar Rate'},\n",
              " {'Text': 'with 4 rates',\n",
              "  'Candidate Text': 'with 4 rates : beta , vr , vs , gamma .',\n",
              "  '1': 'Rate',\n",
              "  '2': 'probability of exit from a country is denied'},\n",
              " {'Text': 'with 4 rates',\n",
              "  'Candidate Text': 'with 4 rates : beta , vr , vs , gamma .',\n",
              "  '1': 'Rate',\n",
              "  '2': 'number of cases with no symptoms'},\n",
              " {'Text': 'with 4 rates',\n",
              "  'Candidate Text': 'with 4 rates : beta , vr , vs , gamma .',\n",
              "  '1': 'Rate',\n",
              "  '2': 'Ditanrix'}]"
            ]
          },
          "metadata": {},
          "execution_count": 35
        }
      ]
    },
    {
      "cell_type": "code",
      "source": [
        "df['Text'].unique()"
      ],
      "metadata": {
        "colab": {
          "base_uri": "https://localhost:8080/"
        },
        "id": "j2-vzmBgRaWp",
        "outputId": "83990aad-5a7c-4607-bfe3-ee5d1c89839e"
      },
      "execution_count": 23,
      "outputs": [
        {
          "output_type": "execute_result",
          "data": {
            "text/plain": [
              "array(['with 4 rates',\n",
              "       'that occur in more than one term in the same equation', 'gamma2',\n",
              "       'beta1', 'gamma1', 'vr', 'beta1 =', 'vs1 ='], dtype=object)"
            ]
          },
          "metadata": {},
          "execution_count": 23
        }
      ]
    },
    {
      "cell_type": "code",
      "source": [
        "if \"dataset\" not in os.listdir(path):\n",
        "  os.mkdir(os.path.join(path, \"dataset\"))\n",
        "output_path = os.path.join(path, \"dataset\")\n",
        "total_data_size = 0\n",
        "for k,this_data in data.items():\n",
        "  print(k)\n",
        "  print(this_data[:1])\n",
        "  print( len(this_data))\n",
        "  total_data_size += len(this_data)\n",
        "  file_name = os.path.basename(k)[:-18].replace(\"grounding_extractions_documents_\", \"ged_\")\n",
        "  pd.DataFrame.from_records(this_data).to_csv(os.path.join(output_path, file_name+\".csv\"))\n",
        "  # pd.DataFrame.from_records(this_data).to_csv(os.path.join(output_path, file_name+\".xlsx\")\n",
        "print(total_data_size)"
      ],
      "metadata": {
        "colab": {
          "base_uri": "https://localhost:8080/"
        },
        "id": "Bwx4K5STHoM9",
        "outputId": "9ca0435d-97b5-43f3-bb40-8a31611aff44"
      },
      "execution_count": 37,
      "outputs": [
        {
          "output_type": "stream",
          "name": "stdout",
          "text": [
            "/content/drive/MyDrive/Colab Notebooks/skema/ASKEM Grounding Annotations/grounding_extractions_documents_5Febbuckymodel_webdocs--COSMOS-data.xlsx\n",
            "[{'Text': 'for running simulations', 'Context': 'for running simulations', '1': 'simulation', '2': 'simulation run length'}]\n",
            "140281\n",
            "/content/drive/MyDrive/Colab Notebooks/skema/ASKEM Grounding Annotations/grounding_extractions_documents_5Febs00285-015-0906-z--COSMOS-data.xlsx\n",
            "[]\n",
            "0\n",
            "/content/drive/MyDrive/Colab Notebooks/skema/ASKEM Grounding Annotations/grounding_extractions_documents_5FebCHIME_SIR--COSMOS-data.xlsx\n",
            "[{'Text': 'for Epidemics', 'Context': 'The CHIME ( COVID-19 Hospital Impact Model for Epidemics ) App is designed to assist hospitals and public health officials understand hospital capacity needs as they relate to the COVID-19 pandemic .', '1': 'epidemic', '2': 'count of cases in an epidemic'}]\n",
            "151809\n",
            "/content/drive/MyDrive/Colab Notebooks/skema/ASKEM Grounding Annotations/grounding_extractions_documents_5FebCHIME_SVIIvR--COSMOS-data.xlsx\n",
            "[{'Text': 'with 4 rates', 'Context': 'with 4 rates : beta , vr , vs , gamma .', '1': 'Rate', '2': 'CEL-170/4'}]\n",
            "210\n",
            "292300\n"
          ]
        }
      ]
    },
    {
      "cell_type": "code",
      "source": [
        "data.keys()"
      ],
      "metadata": {
        "colab": {
          "base_uri": "https://localhost:8080/"
        },
        "id": "0ex6a212PfzR",
        "outputId": "f5467133-a0d0-4279-806a-764a772ce004"
      },
      "execution_count": 38,
      "outputs": [
        {
          "output_type": "execute_result",
          "data": {
            "text/plain": [
              "dict_keys(['/content/drive/MyDrive/Colab Notebooks/skema/ASKEM Grounding Annotations/grounding_extractions_documents_5Febbuckymodel_webdocs--COSMOS-data.xlsx', '/content/drive/MyDrive/Colab Notebooks/skema/ASKEM Grounding Annotations/grounding_extractions_documents_5Febs00285-015-0906-z--COSMOS-data.xlsx', '/content/drive/MyDrive/Colab Notebooks/skema/ASKEM Grounding Annotations/grounding_extractions_documents_5FebCHIME_SIR--COSMOS-data.xlsx', '/content/drive/MyDrive/Colab Notebooks/skema/ASKEM Grounding Annotations/grounding_extractions_documents_5FebCHIME_SVIIvR--COSMOS-data.xlsx'])"
            ]
          },
          "metadata": {},
          "execution_count": 38
        }
      ]
    },
    {
      "cell_type": "code",
      "source": [
        "l = [(\"a\",1), (\"b\",1), 2, 2, 2, 2, 2, 2, 2, 3, 3, 3, 3, 3, 3]\n",
        "res = [(a, b) for idx, a in enumerate(l) for b in l[idx + 1:] if a < b]\n",
        "res"
      ],
      "metadata": {
        "id": "_TaM8loLENtR"
      },
      "execution_count": null,
      "outputs": []
    },
    {
      "cell_type": "code",
      "source": [
        "l = [['distribution', 1], ['human daily movement data set', 2], ['Special Populations Networks', 2],\n",
        " ['triangular distribution', 3], ['continuous uniform distribution', 3], ['uniform distribution', 3],\n",
        "  ['discrete probability distribution', 3], ['discrete parametric probability distribution', 3],\n",
        "   ['discrete nonparametric probability distribution', 3], ['continuous parametric probability distribution', 3],\n",
        "    ['close individual places independently strategy', 3], ['synthetic ecosystem data set', 3],\n",
        "     ['continuous nonparametric probability distribution', 3], ['dataset creating', 3], ['United Network for Organ Sharing', 3]]\n",
        "res1 = [(a, b) for idx, a in enumerate(l) for b in l[idx + 1:] if a[1] < b[1]]\n",
        "res2 = [(a[0], b[0]) for idx, a in enumerate(l) for b in l[idx + 1:] if a[1] < b[1]]\n",
        "res1, res2"
      ],
      "metadata": {
        "id": "7iWQLPNHFHtx"
      },
      "execution_count": null,
      "outputs": []
    }
  ]
}