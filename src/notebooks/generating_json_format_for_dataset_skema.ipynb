{
  "nbformat": 4,
  "nbformat_minor": 0,
  "metadata": {
    "colab": {
      "provenance": []
    },
    "kernelspec": {
      "name": "python3",
      "display_name": "Python 3"
    },
    "language_info": {
      "name": "python"
    }
  },
  "cells": [
    {
      "cell_type": "code",
      "execution_count": null,
      "metadata": {
        "colab": {
          "base_uri": "https://localhost:8080/"
        },
        "id": "zi1ozrO0UmhZ",
        "outputId": "8352a2a1-f096-4f34-ab0d-ff23eb721d7d"
      },
      "outputs": [
        {
          "output_type": "stream",
          "name": "stdout",
          "text": [
            "Mounted at /content/drive\n"
          ]
        }
      ],
      "source": [
        "import json\n",
        "import pandas as pd\n",
        "import os\n",
        "from google.colab import drive\n",
        "drive.mount('/content/drive', force_remount=True)"
      ]
    },
    {
      "cell_type": "code",
      "source": [
        "!ls"
      ],
      "metadata": {
        "colab": {
          "base_uri": "https://localhost:8080/"
        },
        "id": "_kXwAE3AU_HL",
        "outputId": "ef6d602a-c574-47ef-fb1f-a80f7fbdef88"
      },
      "execution_count": null,
      "outputs": [
        {
          "output_type": "stream",
          "name": "stdout",
          "text": [
            "drive  sample_data\n"
          ]
        }
      ]
    },
    {
      "cell_type": "code",
      "source": [
        "%cd /content/drive/MyDrive/Colab Notebooks/skema/\n",
        "!ls"
      ],
      "metadata": {
        "id": "EmOcBGrVHnB-"
      },
      "execution_count": null,
      "outputs": []
    },
    {
      "cell_type": "code",
      "source": [
        "path = \"/content/drive/MyDrive/Colab Notebooks/skema/data/cosmos-and-extractions-jsons-for-3-papers/\"\n",
        "extraction_files = {\"sarsdouble\":\"extractions_sarsdouble.json\", \n",
        "                    \"modeling_covid_italy\":\"extractions_modeling_covid_italy--COSMOS-data.json\", \n",
        "                    \"response-to-covid-19-was-italy-unprepared\":\"extractions_response-to-covid-19-was-italy-unprepared--COSMOS-data.json\"}"
      ],
      "metadata": {
        "id": "eEPe96uqqsxs"
      },
      "execution_count": null,
      "outputs": []
    },
    {
      "cell_type": "code",
      "source": [
        "os.path.exists(path)"
      ],
      "metadata": {
        "colab": {
          "base_uri": "https://localhost:8080/"
        },
        "id": "QrOtIdTnuGwb",
        "outputId": "f03b8aae-b51a-4afd-ae26-008a72ef6792"
      },
      "execution_count": null,
      "outputs": [
        {
          "output_type": "execute_result",
          "data": {
            "text/plain": [
              "True"
            ]
          },
          "metadata": {},
          "execution_count": 12
        }
      ]
    },
    {
      "cell_type": "code",
      "source": [
        "with open(\"/content/drive/MyDrive/Colab Notebooks/skema/test-data-mihai.json\", \"r\") as f1:\n",
        "    d = f1.read()\n",
        "this_json_format = json.loads(d)"
      ],
      "metadata": {
        "id": "ZlfcnTX5vv6V"
      },
      "execution_count": null,
      "outputs": []
    },
    {
      "cell_type": "markdown",
      "source": [
        "### Generate json file for context annotations"
      ],
      "metadata": {
        "id": "RZIImm9rrRu5"
      }
    },
    {
      "cell_type": "code",
      "source": [
        "for name,extr in extraction_files.items():\n",
        "  with open(os.path.join(path, extr), \"r\", encoding=\"utf-8\") as f:\n",
        "    print(\"Extractions for filename: \"+os.path.join(path, extr))\n",
        "    data = f.readlines()\n",
        "    extractions = json.loads(data[0])\n",
        "    event_mentions = []\n",
        "    texts = []\n",
        "    print(extractions['mentions'][0][\"attachments\"])\n",
        "    filename = \"\"\n",
        "    for att in extractions['mentions'][0][\"attachments\"]:\n",
        "      if \"filename\" in att.keys():\n",
        "        filename = att[\"filename\"]\n",
        "        break\n",
        "    for ext in extractions['mentions']:\n",
        "      texts.append(ext['text'])\n",
        "      if ext['type'] == \"EventMention\":\n",
        "        event_mentions.append({'paper': filename,'page_num':1, 'para_num': 1, \n",
        "                              'eventId': ext['id'],'event': ext['text'], \n",
        "                              'locationContext': [''],\n",
        "                              'temporalContext': [''], \"explanation\":\"\"\n",
        "                              })\n",
        "  with open('/content/drive/MyDrive/Colab Notebooks/skema/generated-json-files/'+filename[:-4]+'.json', 'w') as f:\n",
        "    json.dump(event_mentions, f, ensure_ascii=False)"
      ],
      "metadata": {
        "colab": {
          "base_uri": "https://localhost:8080/"
        },
        "id": "-KJ9wk1nrWnB",
        "outputId": "d67bd857-154a-43c3-85b7-4f1b5ad295ad"
      },
      "execution_count": null,
      "outputs": [
        {
          "output_type": "stream",
          "name": "stdout",
          "text": [
            "Extractions for filename: /content/drive/MyDrive/Colab Notebooks/skema/data/cosmos-and-extractions-jsons-for-3-papers/extractions_sarsdouble.json\n",
            "[{'filename': 'sarsdouble.pdf', 'pageNum': [1], 'blockIdx': [2], 'attType': 'MentionLocation'}]\n",
            "Extractions for filename: /content/drive/MyDrive/Colab Notebooks/skema/data/cosmos-and-extractions-jsons-for-3-papers/extractions_modeling_covid_italy--COSMOS-data.json\n",
            "[{'attachedTo': 'concept', 'attType': 'ParamSetAtt'}, {'filename': 'modeling_covid_italy.pdf', 'pageNum': [1], 'blockIdx': [4], 'attType': 'MentionLocation'}, {'scenarioLocation': ['Italy']}, {'scenarioTime': ['5 April 2020']}]\n",
            "Extractions for filename: /content/drive/MyDrive/Colab Notebooks/skema/data/cosmos-and-extractions-jsons-for-3-papers/extractions_response-to-covid-19-was-italy-unprepared--COSMOS-data.json\n",
            "[{'attachedTo': 'concept', 'attType': 'UnitAtt'}, {'filename': 'response-to-covid-19-was-italy-unprepared.pdf', 'pageNum': [1], 'blockIdx': [11], 'attType': 'MentionLocation'}, {'scenarioLocation': ['Italy', 'Rome', 'hardest hit region', 'Lombardy', 'ISTAT']}, {'scenarioTime': ['31st January 2020', 'April 2015-2019']}]\n"
          ]
        }
      ]
    },
    {
      "cell_type": "code",
      "source": [
        "event_mentions[0]"
      ],
      "metadata": {
        "colab": {
          "base_uri": "https://localhost:8080/"
        },
        "id": "8SVjmhu3V30Q",
        "outputId": "88acbdc0-9c57-4081-854c-21c0589693f6"
      },
      "execution_count": null,
      "outputs": [
        {
          "output_type": "execute_result",
          "data": {
            "text/plain": [
              "{'paper': 'sarsdouble.json',\n",
              " 'page_num': 1,\n",
              " 'para_num': 1,\n",
              " 'eventId': 'E:-1716002397',\n",
              " 'event': 'detection of the first two COVID-19 cases',\n",
              " 'locationContext': [''],\n",
              " 'locationDetails': [{'pageNum': 2, 'paraNum': 1, 'start': 2, 'end': 22}],\n",
              " 'temporalContext': [''],\n",
              " 'temporalDetails': [{'pageNum': 2, 'paraNum': 1, 'start': 2, 'end': 22}],\n",
              " 'explanation': ''}"
            ]
          },
          "metadata": {},
          "execution_count": 14
        }
      ]
    },
    {
      "cell_type": "code",
      "source": [
        "json.dumps(event_mentions)"
      ],
      "metadata": {
        "id": "jBkxiK_Tr_8u"
      },
      "execution_count": null,
      "outputs": []
    },
    {
      "cell_type": "markdown",
      "source": [
        "### Testing manually locating the manually annotated temporal and location contexts"
      ],
      "metadata": {
        "id": "ALXHVATEwd4C"
      }
    },
    {
      "cell_type": "code",
      "source": [
        "import io, json\n",
        "with io.open('data.json', 'w', encoding='utf-8') as f:\n",
        "  f.write(json.dumps(event_mentions, ensure_ascii=False))"
      ],
      "metadata": {
        "id": "ABtgzX6isjsT"
      },
      "execution_count": null,
      "outputs": []
    },
    {
      "cell_type": "code",
      "source": [
        "for ext in extractions['mentions']:\n",
        "  for event in event_mentions:\n",
        "    if event['eventId'] == \n",
        "  if ext[\"foundBy\"] == \"entity-location\":\n",
        "    print(ext)"
      ],
      "metadata": {
        "id": "Z5Tw5r_3sjtS"
      },
      "execution_count": null,
      "outputs": []
    },
    {
      "cell_type": "code",
      "source": [
        "l1= \"Guangdong\"\n",
        "l2 = \"China\"\n",
        "l3 = \"Hong Kong\"\n",
        "l4 = \"Mainland China\", \n",
        "l5 = \"Beijing\", \n",
        "l6 = \"Shanghai\""
      ],
      "metadata": {
        "id": "F39RkD4FBi0d"
      },
      "execution_count": null,
      "outputs": []
    },
    {
      "cell_type": "code",
      "source": [
        "text = \"Background: An epidemic of a Severe Acute Respiratory Syndrome (SARS) caused by a new coronavirus has spread from the Guangdong province to the rest of China and to the world, with a puzzling contagion behavior. It is important both for predicting the future of the present outbreak and for implementing effective prophylactic measures, to identify the causes of this behavior.\"\n",
        "text.index(l1),text.index(l1)+len(l1)-1, text.index(l2), text.index(l2)+len(l2)-1, text[156]"
      ],
      "metadata": {
        "colab": {
          "base_uri": "https://localhost:8080/"
        },
        "id": "qkHk3XyGBB0B",
        "outputId": "7961743e-144e-4ed0-ccc5-51febb170f93"
      },
      "execution_count": null,
      "outputs": [
        {
          "output_type": "execute_result",
          "data": {
            "text/plain": [
              "(118, 126, 152, 156, 'a')"
            ]
          },
          "metadata": {},
          "execution_count": 47
        }
      ]
    },
    {
      "cell_type": "code",
      "source": [
        "text =\"Results: In this report, we show first that the standard Susceptible-Infected-Removed (SIR) model cannot account for the patterns observed in various regions where the disease spread. We develop a model involving two superimposed epidemics to study the recent spread of the SARS in Hong Kong and in the region. We explore the situation where these epidemics may be caused either by a virus and one or several mutants that changed its tropism, or by two unrelated viruses. This has important consequences for the future: the innocuous epidemic might still be there and generate, from time to time, variants that would have properties similar to those of SARS.\"\n",
        "text.index(l3),text.index(l3)+len(l3)-1"
      ],
      "metadata": {
        "colab": {
          "base_uri": "https://localhost:8080/"
        },
        "id": "2JxjIcWqBVSl",
        "outputId": "fec10821-6256-4692-e68f-d4f97c380512"
      },
      "execution_count": null,
      "outputs": [
        {
          "output_type": "execute_result",
          "data": {
            "text/plain": [
              "(282, 290)"
            ]
          },
          "metadata": {},
          "execution_count": 22
        }
      ]
    },
    {
      "cell_type": "code",
      "source": [
        "d1 = \"November 2002\"\n",
        "d2 = \"February 21st, 2003\"\n",
        "d3 = \"1983\"\n",
        "d4 = \"1985\"\n",
        "d5 = \"February 22\"\n",
        "d6 = \"March 17, 2003\"\n",
        "d7 = \"May 10, 2003\""
      ],
      "metadata": {
        "id": "W5dapePUCxl3"
      },
      "execution_count": null,
      "outputs": []
    },
    {
      "cell_type": "code",
      "source": [
        "text = \"Since November 2002 (and perhaps earlier) an outbreak of a very contagious atypical pneumonia (now named Severe Acute Respiratory Syndrome) initiated in the Guangdong Province of China. This outbreak started a world-wide epidemic after a medical doctor from Guangzhou infected several persons at an hotel in Kowloon around February 21st, 2003 (SAR Hong Kong, China). \"\n",
        "text.index(d1),text.index(d1)+len(d1)-1, text.index(d2),text.index(d2)+len(d2)-1"
      ],
      "metadata": {
        "colab": {
          "base_uri": "https://localhost:8080/"
        },
        "id": "5rpWY7MDCr8V",
        "outputId": "873286df-8579-4cc8-f508-b8aca07f538c"
      },
      "execution_count": null,
      "outputs": [
        {
          "output_type": "execute_result",
          "data": {
            "text/plain": [
              "(6, 18, 323, 341)"
            ]
          },
          "metadata": {},
          "execution_count": 49
        }
      ]
    },
    {
      "cell_type": "code",
      "source": [
        "text = \"Since November 2002 (and perhaps earlier) an outbreak of a very contagious atypical pneumonia (now named Severe Acute Respiratory Syndrome) initiated in the Guangdong Province of China. This outbreak started a world-wide epidemic after a medical doctor from Guangzhou infected several persons at an hotel in Kowloon around February 21st, 2003 (SAR Hong Kong, China). \"\n",
        "text.index(d1),text.index(d1)+len(d1)-1, text.index(d2),text.index(d2)+len(d2)-1"
      ],
      "metadata": {
        "id": "ngqxkXN022Rk"
      },
      "execution_count": null,
      "outputs": []
    },
    {
      "cell_type": "code",
      "source": [
        "l = {\"pageNum\": 2,\"paraNum\": 1,\"start\": 2,\"end\": 22}\n",
        "tem = {\"pageNum\": 2,\"paraNum\": 1, \"start\": 2,\"end\": 22}\n",
        "for t in test:\n",
        "  t[\"locationDetails\"]= []\n",
        "  t[\"temporalDetails\"]= []\n",
        "  t[\"explanation\"] = \"\"\n",
        "  for loc in range(len(t['locationContext'])):\n",
        "    t[\"locationDetails\"].append(l)\n",
        "  for temp in range(len(t['temporalContext'])):\n",
        "    t[\"temporalDetails\"].append(tem)"
      ],
      "metadata": {
        "id": "cb7E4hraHPRC"
      },
      "execution_count": null,
      "outputs": []
    }
  ]
}